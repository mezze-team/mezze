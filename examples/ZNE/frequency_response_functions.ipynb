{
 "cells": [
  {
   "cell_type": "markdown",
   "id": "8999d3cb",
   "metadata": {
    "papermill": {
     "duration": 0.01541,
     "end_time": "2021-10-13T10:52:24.981268",
     "exception": false,
     "start_time": "2021-10-13T10:52:24.965858",
     "status": "completed"
    },
    "tags": []
   },
   "source": [
    "# Plot frequency response for different noise scaling methods"
   ]
  },
  {
   "cell_type": "markdown",
   "id": "3f7ae699",
   "metadata": {
    "papermill": {
     "duration": 0.011427,
     "end_time": "2021-10-13T10:52:25.125024",
     "exception": false,
     "start_time": "2021-10-13T10:52:25.113597",
     "status": "completed"
    },
    "tags": []
   },
   "source": [
    "### Imports"
   ]
  },
  {
   "cell_type": "code",
   "execution_count": null,
   "id": "29635e77",
   "metadata": {
    "papermill": {
     "duration": 2.940071,
     "end_time": "2021-10-13T10:52:28.076391",
     "exception": false,
     "start_time": "2021-10-13T10:52:25.136320",
     "status": "completed"
    },
    "tags": []
   },
   "outputs": [],
   "source": [
    "import numpy as np\n",
    "import scipy.signal as si\n",
    "from scipy.fft import fft, ifft\n",
    "\n",
    "import matplotlib.pyplot as plt\n",
    "\n",
    "import cirq\n",
    "\n",
    "import mezze.random.SchWARMA as sch\n",
    "from mezze.tfq import (\n",
    "    SimpleDephasingSchWARMAFier,\n",
    "    TensorFlowSchWARMASim,\n",
    "    get_filter_fcns_only,\n",
    "    compute_A_BBs\n",
    ")\n",
    "\n",
    "from mitiq import zne\n",
    "import mezze.channel as ch\n",
    "from functools import reduce"
   ]
  },
  {
   "cell_type": "code",
   "execution_count": null,
   "id": "188ed4c0",
   "metadata": {
    "papermill": {
     "duration": 0.024219,
     "end_time": "2021-10-13T10:52:28.134664",
     "exception": false,
     "start_time": "2021-10-13T10:52:28.110445",
     "status": "completed"
    },
    "tags": []
   },
   "outputs": [],
   "source": [
    "# Define \"gate-Trotterization\" function\n",
    "\n",
    "def scale_noise_trotter(circ: cirq.Circuit, scale_factor: float) -> cirq.Circuit:\n",
    "    if not np.isclose(scale_factor, round(scale_factor)):\n",
    "        raise ValueError(\n",
    "            f\"Arg `scale_factor` must be an integer but was {scale_factor}.\"\n",
    "        )\n",
    "\n",
    "    operations = []\n",
    "    for moment in circ:\n",
    "        for operation in moment:\n",
    "            for _ in range(scale_factor):\n",
    "                operations.append(operation ** (1 / scale_factor))\n",
    "    return cirq.Circuit(operations)"
   ]
  },
  {
   "cell_type": "markdown",
   "id": "efe07bf0",
   "metadata": {
    "papermill": {
     "duration": 0.01119,
     "end_time": "2021-10-13T10:52:28.157538",
     "exception": false,
     "start_time": "2021-10-13T10:52:28.146348",
     "status": "completed"
    },
    "tags": []
   },
   "source": [
    "### Settings"
   ]
  },
  {
   "cell_type": "code",
   "execution_count": null,
   "id": "b58cd352",
   "metadata": {
    "papermill": {
     "duration": 0.01602,
     "end_time": "2021-10-13T10:52:28.184788",
     "exception": false,
     "start_time": "2021-10-13T10:52:28.168768",
     "status": "completed"
    },
    "tags": []
   },
   "outputs": [],
   "source": [
    "plt.rcParams.update(\n",
    "    {\n",
    "        \"text.usetex\": False,\n",
    "        \"font.family\": \"serif\",\n",
    "        \"font.size\": 14,\n",
    "    }\n",
    ")\n",
    "%matplotlib inline"
   ]
  },
  {
   "cell_type": "markdown",
   "id": "fce86fce",
   "metadata": {
    "papermill": {
     "duration": 0.011378,
     "end_time": "2021-10-13T10:52:28.207696",
     "exception": false,
     "start_time": "2021-10-13T10:52:28.196318",
     "status": "completed"
    },
    "tags": []
   },
   "source": [
    "### Runtime parameters\n",
    "\n",
    "**Note:** some of the parameters are irrelevant for this notebook but we keep them for consistency with `run.ipynb`."
   ]
  },
  {
   "cell_type": "code",
   "execution_count": null,
   "id": "2cb16160",
   "metadata": {
    "papermill": {
     "duration": 0.0163,
     "end_time": "2021-10-13T10:52:28.235563",
     "exception": false,
     "start_time": "2021-10-13T10:52:28.219263",
     "status": "completed"
    },
    "tags": [
     "parameters"
    ]
   },
   "outputs": [],
   "source": [
    "\"\"\"Parameters and default values. \n",
    "\n",
    "Note: Papermill inserts a new cell after this one if new parameter values are provided.\n",
    "\"\"\"\n",
    "# Benchmark circuit parameters.\n",
    "circuit_type: str = \"rb\"\n",
    "depth: int = 10\n",
    "nqubits: int = 1\n",
    "\n",
    "# Noise parameters.\n",
    "noise_type: str = \"pink\"\n",
    "base_power: float = 0.01\n",
    "cutoff_as_fraction_of_pi: float = 0.01  # Lowpass cutoff for lowpass noise. Note: the actual cutoff is 10 times larger.\n",
    "alpha: float = 2.0  # The α in 1 / f^α noise.\n",
    "# Scaling parameters.\n",
    "local_fold_key: str = \"random\"\n",
    "max_scale_factor: int = 9\n",
    "\n",
    "# Option to save data. TODO: Explain save format here / somewhere else.\n",
    "save: bool = False\n",
    "    \n",
    "# Option to save figures.\n",
    "savefigs: bool = False\n",
    "\n",
    "# Other miscellaneous parameters.\n",
    "num_monte_carlo: int = 3000\n",
    "verbosity: int = 1"
   ]
  },
  {
   "cell_type": "code",
   "execution_count": null,
   "id": "afb4f7cb",
   "metadata": {
    "papermill": {
     "duration": 0.015188,
     "end_time": "2021-10-13T10:52:28.262227",
     "exception": false,
     "start_time": "2021-10-13T10:52:28.247039",
     "status": "completed"
    },
    "tags": [
     "injected-parameters"
    ]
   },
   "outputs": [],
   "source": [
    "# Parameters\n",
    "circuit_type = \"rb\"\n",
    "noise_type = \"white\"\n",
    "depth= 2\n",
    "alpha = 1\n",
    "savefigs = False\n",
    "nqubits = 2\n",
    "save = False"
   ]
  },
  {
   "cell_type": "code",
   "execution_count": null,
   "id": "5cd5c29a",
   "metadata": {
    "papermill": {
     "duration": 0.01605,
     "end_time": "2021-10-13T10:52:28.289777",
     "exception": false,
     "start_time": "2021-10-13T10:52:28.273727",
     "status": "completed"
    },
    "tags": []
   },
   "outputs": [],
   "source": [
    "# Cast settings into a string\n",
    "setting_str = f\"{circuit_type}_{nqubits}_{depth}_{noise_type}_{base_power}_{cutoff_as_fraction_of_pi}_{alpha}_{local_fold_key}_{max_scale_factor}_{num_monte_carlo}\"\n",
    "setting_str"
   ]
  },
  {
   "cell_type": "markdown",
   "id": "c7e27029",
   "metadata": {
    "papermill": {
     "duration": 0.011748,
     "end_time": "2021-10-13T10:52:28.313253",
     "exception": false,
     "start_time": "2021-10-13T10:52:28.301505",
     "status": "completed"
    },
    "tags": []
   },
   "source": [
    "## Check/parse runtime parameters"
   ]
  },
  {
   "cell_type": "code",
   "execution_count": null,
   "id": "36e2c067",
   "metadata": {
    "papermill": {
     "duration": 0.857553,
     "end_time": "2021-10-13T10:52:29.182623",
     "exception": false,
     "start_time": "2021-10-13T10:52:28.325070",
     "status": "completed"
    },
    "tags": []
   },
   "outputs": [],
   "source": [
    "# @title Parse benchmark circuit type.\n",
    "valid_circuit_types = (\"rb\", \"qaoa\", \"mirror\")\n",
    "\n",
    "if circuit_type == \"rb\":\n",
    "    from mitiq.benchmarks import generate_rb_circuits\n",
    "\n",
    "    (circuit,) = generate_rb_circuits(nqubits, depth, 1)\n",
    "elif circuit_type == \"mirror\":\n",
    "    import networkx as nx\n",
    "    from mitiq.benchmarks import generate_mirror_circuit\n",
    "    \n",
    "    circuit, correct_bitstring = generate_mirror_circuit(\n",
    "        nlayers=depth,\n",
    "        two_qubit_gate_prob=1.0,\n",
    "        connectivity_graph=nx.complete_graph(nqubits),\n",
    "    )\n",
    "elif circuit_type == \"qaoa\":\n",
    "    qreg = cirq.LineQubit.range(nqubits)\n",
    "    # Set random qaoa parameters\n",
    "    alphas = np.random.rand(depth)\n",
    "    betas = np.random.rand(depth)\n",
    "    circuit = (\n",
    "        cirq.Circuit(\n",
    "            [[\n",
    "                (cirq.ZZ ** alpha).on(qreg[i + shift], qreg[i + shift + 1])\n",
    "                for shift in (0, 1)\n",
    "                for i in range(0, nqubits - shift - 1, 2)\n",
    "            ],\n",
    "            cirq.Moment([(cirq.X ** beta).on_each(*qreg)])]\n",
    "            for alpha, beta in zip(alphas, betas)\n",
    "        )\n",
    "    )\n",
    "    # Append inverse circuit such that tr{rho_ideal |0..0><0..|}=1\n",
    "    circuit += cirq.inverse(circuit)\n",
    "else:\n",
    "    raise ValueError(\n",
    "        f\"Value for `circuit_type` ('{circuit_type}') is invalid. Valid options are {valid_circuit_types}.\"\n",
    "    )\n",
    "\n",
    "circuit = circuit.transform_qubits(lambda q: cirq.GridQubit(q.x, q.x))\n",
    "\n",
    "print(\"Benchmark circuit:\")\n",
    "print(circuit)"
   ]
  },
  {
   "cell_type": "code",
   "execution_count": null,
   "id": "81b6fbf2",
   "metadata": {
    "papermill": {
     "duration": 0.017352,
     "end_time": "2021-10-13T10:52:29.243548",
     "exception": false,
     "start_time": "2021-10-13T10:52:29.226196",
     "status": "completed"
    },
    "tags": []
   },
   "outputs": [],
   "source": [
    "# @title Parse scaling options.\n",
    "local_fold_method = {\n",
    "    \"random\": zne.scaling.fold_gates_at_random,\n",
    "    \"left\": zne.scaling.fold_gates_from_left,\n",
    "    \"right\": zne.scaling.fold_gates_from_right,\n",
    "}.get(local_fold_key)\n",
    "\n",
    "scale_factors = tuple(range(1, max_scale_factor + 1, 2))\n",
    "\n",
    "if verbosity >= 1:\n",
    "    print(\"Using scale factors:\", scale_factors)"
   ]
  },
  {
   "cell_type": "markdown",
   "id": "a98adcd2",
   "metadata": {
    "papermill": {
     "duration": 0.014311,
     "end_time": "2021-10-13T10:52:38.806923",
     "exception": false,
     "start_time": "2021-10-13T10:52:38.792612",
     "status": "completed"
    },
    "tags": []
   },
   "source": [
    "## Scale circuits with all gate-level methods"
   ]
  },
  {
   "cell_type": "code",
   "execution_count": null,
   "id": "4c3c9a0d",
   "metadata": {
    "papermill": {
     "duration": 0.200436,
     "end_time": "2021-10-13T10:52:39.022087",
     "exception": false,
     "start_time": "2021-10-13T10:52:38.821651",
     "status": "completed"
    },
    "tags": []
   },
   "outputs": [],
   "source": [
    "all_scaling_methods = {\n",
    "    \"Global\": zne.scaling.fold_global,\n",
    "    \"Local\": local_fold_method,\n",
    "    \"Trotter\": scale_noise_trotter,\n",
    "}\n",
    "\n",
    "all_scaled_circuits = []\n",
    "for scaling_method in all_scaling_methods.values():\n",
    "    all_scaled_circuits.append(\n",
    "        [scaling_method(circuit, scale_factor) for scale_factor in scale_factors]\n",
    "    )"
   ]
  },
  {
   "cell_type": "markdown",
   "id": "989c96fb",
   "metadata": {
    "papermill": {
     "duration": 0.014616,
     "end_time": "2021-10-13T10:52:39.051665",
     "exception": false,
     "start_time": "2021-10-13T10:52:39.037049",
     "status": "completed"
    },
    "tags": []
   },
   "source": [
    "## Visualize frequency response of scaled circuits"
   ]
  },
  {
   "cell_type": "code",
   "execution_count": null,
   "id": "b0c67ff8",
   "metadata": {
    "papermill": {
     "duration": 11.550712,
     "end_time": "2021-10-13T10:52:50.617242",
     "exception": false,
     "start_time": "2021-10-13T10:52:39.066530",
     "status": "completed"
    },
    "tags": []
   },
   "outputs": [],
   "source": [
    "num_freqs = 8192 * 16\n",
    "    \n",
    "\n",
    "\n",
    "def get_biggest_ff(circuit, num_freqs):\n",
    "    \n",
    "    paulis = ch.PauliBasis(nqubits).basis_list\n",
    "    O = reduce(np.kron, [ch._sigmaZ,]*nqubits)\n",
    "    Oinv = O.conj().T\n",
    "    A_BB_idxs, A_BBs = compute_A_BBs(paulis, O, Oinv)\n",
    "    \n",
    "    FFs = get_filter_fcns_only(circuit, SimpleDephasingSchWARMAFier(b=.1),worN=num_freqs)\n",
    "    \n",
    "    ff_tot = []\n",
    "    ops = []\n",
    "    keys = list(FFs.keys())\n",
    "    for i, key in enumerate(keys):\n",
    "        idx = np.mod(i,len(keys)//nqubits)\n",
    "        A_BB = A_BBs[idx]\n",
    "\n",
    "        diff = [np.linalg.norm(op-A_BB) for op in ops]\n",
    "        ndiff = [np.linalg.norm(op+A_BB) for op in ops]\n",
    "\n",
    "        if len(ops)==0:\n",
    "            ff_tot.append(FFs[key].copy())\n",
    "            ops.append(A_BB)\n",
    "        elif np.min(diff)==0:\n",
    "            ii = np.argmin(diff)\n",
    "            ff_tot[ii]+=FFs[key]\n",
    "        elif np.min(ndiff)==0:\n",
    "            ii = np.argmin(ndiff)\n",
    "            ff_tot[ii]-=FFs[key]\n",
    "        else:\n",
    "            ff_tot.append(FFs[key].copy())\n",
    "            ops.append(A_BB)\n",
    "\n",
    "    #idx = np.argmax([np.linalg.norm(ff) for ff in ff_tot])\n",
    "    idx = np.argsort([np.linalg.norm(ff) for ff in ff_tot])[-1]\n",
    "    return np.real(ff_tot[idx])\n",
    "\n",
    "digital_FFs = []\n",
    "for scaled_circuits in all_scaled_circuits:\n",
    "    digital_FFs.append(\n",
    "        [get_biggest_ff(circuit, num_freqs)[: num_freqs // 2] for circuit in scaled_circuits]\n",
    "    )"
   ]
  },
  {
   "cell_type": "code",
   "execution_count": null,
   "id": "8ba1975c",
   "metadata": {
    "papermill": {
     "duration": 11.550712,
     "end_time": "2021-10-13T10:52:50.617242",
     "exception": false,
     "start_time": "2021-10-13T10:52:39.066530",
     "status": "completed"
    },
    "tags": []
   },
   "outputs": [],
   "source": [
    "    \n",
    "# Get FF for pulse stretching\n",
    "base_FF = get_biggest_ff(scaled_circuits[0], num_freqs)[: num_freqs // 2]\n",
    "base_FF_omega = ifft(base_FF)\n",
    "\n",
    "# Fourier transform and padd with zeros to the right to scale the spectrum\n",
    "high_freq_zeros = [(scale_factor - 1) * len(base_FF_omega) * [0] for scale_factor in scale_factors]\n",
    "pulse_FFs_omega = [list(base_FF_omega) + zeros for zeros in high_freq_zeros] \n",
    "\n",
    "# Inverse Fourier transform and ensure same length\n",
    "pulse_FFs = [abs(fft(FF_omega)) for FF_omega in pulse_FFs_omega]\n",
    "\n",
    "# Fake placeholder - pulse stretching will be applied directly when plotting\n",
    "pulse_FFs = [base_FF for scale_factor in scale_factors]\n",
    "\n",
    "# Stack pulse stretching before all the other filter functions\n",
    "FFs = [pulse_FFs] + digital_FFs\n",
    "print(len(FFs))"
   ]
  },
  {
   "cell_type": "code",
   "execution_count": null,
   "id": "5e7b382c",
   "metadata": {
    "papermill": {
     "duration": 0.999273,
     "end_time": "2021-10-13T10:52:51.631635",
     "exception": false,
     "start_time": "2021-10-13T10:52:50.632362",
     "status": "completed"
    },
    "tags": []
   },
   "outputs": [],
   "source": [
    "max_scale_factor_to_plot = 5\n",
    "y_max = 1.5\n",
    "\n",
    "# Set plot style\n",
    "plt.rcParams.update({\"font.family\": \"serif\", \"font.size\": 17, \"text.usetex\": True})\n",
    "axis_size = 20\n",
    "\n",
    "# @title Plotting code.\n",
    "fig, axes_grid = plt.subplots(nrows=2, ncols=2, figsize=(12, 12), sharex=False, sharey=True)\n",
    "\n",
    "axes = axes_grid.flatten()\n",
    "\n",
    "# Set frequencies.\n",
    "w = np.linspace(0, 2 * np.pi, num_freqs + 1)[:-1]\n",
    "w = np.array(w[: num_freqs // 2])\n",
    "\n",
    "xticks= [0, np.pi / 4, np.pi / 2, 3 * np.pi / 4, np.pi]\n",
    "xticks_labels= [\"0\", r\"$\\pi/4$\", r\"$\\pi/2$\", r\"$3 \\pi /4$\", r\"$\\pi$\"]\n",
    "\n",
    "\n",
    "# Plot all noise-scaled filter functions\n",
    "for (i, FF) in enumerate(FFs):\n",
    "    for filter_function, scale_factor in zip(FF, scale_factors): \n",
    "        \n",
    "        # Special case of pulse stretching\n",
    "        if i == 0 and 1 < scale_factor <= max_scale_factor_to_plot:\n",
    "            w_stretched = w / float(scale_factor)\n",
    "            filter_function_stretched = filter_function.copy()\n",
    "            filter_function_stretched[-1] = 0.0\n",
    "            axes[i].plot(\n",
    "                w_stretched,\n",
    "                filter_function_stretched\n",
    "                / max(filter_function_stretched),\n",
    "                label=rf\"$\\lambda = {scale_factor}$\",\n",
    "                alpha=0.75,\n",
    "            )\n",
    "            axes[i].set_xticks(xticks, minor=False)\n",
    "            axes[i].set_xticklabels(xticks_labels)\n",
    "            continue\n",
    "\n",
    "        # All digital noise scaling methods\n",
    "        if scale_factor <= max_scale_factor_to_plot:\n",
    "            axes[i].set_ylim(0, y_max)\n",
    "            axes[i].plot(\n",
    "                w,\n",
    "                filter_function\n",
    "                / max(filter_function),\n",
    "                label=rf\"$\\lambda = {scale_factor}$\",\n",
    "                alpha=0.75,\n",
    "            )\n",
    "            axes[i].set_xticks(xticks, minor=False)\n",
    "            axes[i].set_xticklabels(xticks_labels)\n",
    "\n",
    "fig_labels = [\"(a)\", \"(b)\", \"(c)\", \"(d)\"]\n",
    "fig_names = [\"- Pulse\", \"- Global\", \"- Local\", \"- Trotter\"]\n",
    "x = 0\n",
    "y = 1.35\n",
    "for ax, fig_label, fig_name in zip(axes[:2], fig_labels, fig_names):\n",
    "    ax.text(x, y, fig_label, size=22)\n",
    "    ax.text(x + 0.4, y + 0.008, fig_name, size=17)\n",
    "    ax.legend()\n",
    "\n",
    "for ax, fig_label, fig_name in zip(axes[2:], fig_labels[2:], fig_names[2:]):\n",
    "    ax.text(x, y, fig_label, size=22)\n",
    "    ax.text(x + 0.4, y + 0.008, fig_name, size=17)\n",
    "    ax.set_xlabel(\"Normalized frequency $\\omega$\", size=axis_size)\n",
    "    ax.legend()\n",
    "\n",
    "\n",
    "axes[0].set_ylabel(\"Normalized filter function\", size=axis_size)\n",
    "axes[2].set_ylabel(\"Normalized filter function\", size=axis_size)\n",
    "#plt.tight_layout();\n",
    "\n",
    "\n",
    "if savefigs:\n",
    "    plt.savefig(f\"frequency_response_functions_\" + setting_str + \".pdf\")"
   ]
  },
  {
   "cell_type": "code",
   "execution_count": null,
   "id": "5b13d49a",
   "metadata": {},
   "outputs": [],
   "source": [
    "circuit = all_scaled_circuits[0][0]\n",
    "\n",
    "paulis = ch.PauliBasis(nqubits).basis_list\n",
    "O = reduce(np.kron, [ch._sigmaZ,]*nqubits)\n",
    "Oinv = O.conj().T\n",
    "A_BB_idxs, A_BBs = compute_A_BBs(paulis, O, Oinv)\n",
    "\n",
    "FFs = get_filter_fcns_only(circuit, SimpleDephasingSchWARMAFier(b=.1),worN=num_freqs)\n",
    "\n",
    "ff_tot = []\n",
    "ops = []\n",
    "keys = list(FFs.keys())\n",
    "for i, key in enumerate(keys):\n",
    "    idx = np.mod(i,len(keys)//nqubits)\n",
    "    A_BB = A_BBs[idx]\n",
    "\n",
    "    diff = [np.linalg.norm(op-A_BB) for op in ops]\n",
    "    ndiff = [np.linalg.norm(op+A_BB) for op in ops]\n",
    "\n",
    "    if len(ops)==0:\n",
    "        ff_tot.append(FFs[key].copy())\n",
    "        ops.append(A_BB)\n",
    "    elif np.min(diff)==0:\n",
    "        ii = np.argmin(diff)\n",
    "        ff_tot[ii]+=FFs[key]\n",
    "    elif np.min(ndiff)==0:\n",
    "        ii = np.argmin(ndiff)\n",
    "        ff_tot[ii]-=FFs[key]\n",
    "    else:\n",
    "        ff_tot.append(FFs[key].copy())\n",
    "        ops.append(A_BB)"
   ]
  },
  {
   "cell_type": "code",
   "execution_count": null,
   "id": "bb0f1f6d",
   "metadata": {},
   "outputs": [],
   "source": [
    "plt.figure()\n",
    "plt.plot([np.linalg.norm(np.real(ff)) for ff in ff_tot],'-o',label='Real Part')\n",
    "plt.plot([np.linalg.norm(np.imag(ff)) for ff in ff_tot],'-o',label='Imaginary Part')\n",
    "plt.xlabel(r\"$\\mathcal{A}_{\\beta\\beta'}$ index\")\n",
    "#plt.xticks(np.arange(14))\n",
    "plt.ylabel(r\"$||\\sum_{\\mathcal{A}_{\\beta\\beta'}=\\sigma}\\mathcal{F}_{\\alpha\\beta,\\alpha'\\beta'}||$\")\n",
    "plt.legend()\n",
    "#plt.ylim([0,100])\n",
    "plt.show()"
   ]
  },
  {
   "cell_type": "code",
   "execution_count": null,
   "id": "06c832ea",
   "metadata": {},
   "outputs": [],
   "source": []
  },
  {
   "cell_type": "code",
   "execution_count": null,
   "id": "470de9f7",
   "metadata": {},
   "outputs": [],
   "source": []
  }
 ],
 "metadata": {
  "kernelspec": {
   "display_name": "mezze_test",
   "language": "python",
   "name": "mezze_test"
  },
  "language_info": {
   "codemirror_mode": {
    "name": "ipython",
    "version": 3
   },
   "file_extension": ".py",
   "mimetype": "text/x-python",
   "name": "python",
   "nbconvert_exporter": "python",
   "pygments_lexer": "ipython3",
   "version": "3.9.10"
  },
  "papermill": {
   "default_parameters": {},
   "duration": 383.236851,
   "end_time": "2021-10-13T10:58:47.571190",
   "environment_variables": {},
   "exception": null,
   "input_path": "run.ipynb",
   "output_path": "qaoa_pink1.ipynb",
   "parameters": {
    "alpha": 1,
    "circuit_type": "qaoa",
    "noise_type": "pink",
    "nqubits": 2,
    "save": true,
    "savefigs": true
   },
   "start_time": "2021-10-13T10:52:24.334339",
   "version": "2.3.3"
  }
 },
 "nbformat": 4,
 "nbformat_minor": 5
}
