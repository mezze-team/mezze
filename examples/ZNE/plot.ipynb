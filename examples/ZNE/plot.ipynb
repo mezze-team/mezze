{
 "cells": [
  {
   "cell_type": "markdown",
   "id": "d4c3cec4",
   "metadata": {
    "papermill": {
     "duration": 0.021484,
     "end_time": "2021-05-03T19:05:02.765715",
     "exception": false,
     "start_time": "2021-05-03T19:05:02.744231",
     "status": "completed"
    },
    "tags": []
   },
   "source": [
    "# Plotting time-correlated ZNE data"
   ]
  },
  {
   "cell_type": "markdown",
   "id": "bcdf6249",
   "metadata": {},
   "source": [
    "## Usage"
   ]
  },
  {
   "cell_type": "markdown",
   "id": "6e37aa6b",
   "metadata": {},
   "source": [
    "Meant for plotting/saving images of data created by executing the [`run.ipynb`](./run.ipynb) notebook.\n",
    "\n",
    "1. Run from Jupyter notebook / Colab.\n",
    "2. Run with Papermill.\n",
    "  * `papermill plot.ipynb out.ipynb -p param1 value1 -p param2 value2 ...`\n",
    "  * *Tip*: Do `papermill plot.ipynb --help-notebook` to see all parameters."
   ]
  },
  {
   "cell_type": "markdown",
   "id": "fb70f380",
   "metadata": {},
   "source": [
    "## Imports"
   ]
  },
  {
   "cell_type": "code",
   "execution_count": 1,
   "id": "72e08517",
   "metadata": {
    "papermill": {
     "duration": 2.407759,
     "end_time": "2021-05-03T19:05:05.188800",
     "exception": false,
     "start_time": "2021-05-03T19:05:02.781041",
     "status": "completed"
    },
    "tags": []
   },
   "outputs": [],
   "source": [
    "import glob\n",
    "import os\n",
    "import time\n",
    "\n",
    "import numpy as np\n",
    "import matplotlib.pyplot as plt"
   ]
  },
  {
   "cell_type": "markdown",
   "id": "573c2835",
   "metadata": {},
   "source": [
    "## Settings"
   ]
  },
  {
   "cell_type": "code",
   "execution_count": 2,
   "id": "cc95db69",
   "metadata": {},
   "outputs": [],
   "source": [
    "plt.rcParams.update(\n",
    "    {\n",
    "        \"text.usetex\": True,\n",
    "        \"font.family\": \"serif\",\n",
    "        \"font.size\": 16,\n",
    "        \"font.weight\": \"bold\",\n",
    "    }\n",
    ")\n",
    "%matplotlib inline"
   ]
  },
  {
   "cell_type": "markdown",
   "id": "1396a4a6",
   "metadata": {},
   "source": [
    "## Constants"
   ]
  },
  {
   "cell_type": "code",
   "execution_count": 3,
   "id": "e7ad5a0f",
   "metadata": {},
   "outputs": [],
   "source": [
    "\"\"\"Filename and saving conventions.\"\"\"\n",
    "# Filename keys.\n",
    "scale_factor_fnames_key = \"scale_factors_*\"\n",
    "expectation_values_fnames_key = \"all_expectation_values_*\"\n",
    "\n",
    "# These are the rows in expectation values filenames.\n",
    "labels = (\n",
    "    \"True\",     # First row is exact 𝐸(𝜆) curve.\n",
    "    \"Pulse\",    # Second row is 𝐸(𝜆) curve for (approximate) pulse stretching.\n",
    "    \"Global\",   # Third row is 𝐸(𝜆) curve for global folding.\n",
    "    \"Local\",    # Fourth row is 𝐸(𝜆) curve for local folding.\n",
    "    \"Trotter\",  # Fifth row is 𝐸(𝜆) curve for Trotter scaling.\n",
    ")"
   ]
  },
  {
   "cell_type": "markdown",
   "id": "2204b854",
   "metadata": {
    "papermill": {
     "duration": 0.004515,
     "end_time": "2021-05-03T19:05:05.198416",
     "exception": false,
     "start_time": "2021-05-03T19:05:05.193901",
     "status": "completed"
    },
    "tags": []
   },
   "source": [
    "## Runtime parameters"
   ]
  },
  {
   "cell_type": "code",
   "execution_count": 4,
   "id": "3ac9f41d",
   "metadata": {
    "papermill": {
     "duration": 0.010557,
     "end_time": "2021-05-03T19:05:05.213586",
     "exception": false,
     "start_time": "2021-05-03T19:05:05.203029",
     "status": "completed"
    },
    "tags": [
     "parameters"
    ]
   },
   "outputs": [],
   "source": [
    "\"\"\"Parameters and default values. \n",
    "\n",
    "Note: Papermill inserts a new cell after this one if new parameter values are provided.\n",
    "\"\"\"\n",
    "# Data directory.\n",
    "prefix: str = \"./\"\n",
    "\n",
    "# Benchmark circuit parameters.\n",
    "circuit_type: str = \"rb\"\n",
    "depth: int = 10\n",
    "nqubits: int = 1\n",
    "\n",
    "# Noise parameters.\n",
    "noise_type: str = \"lowpass\"\n",
    "base_power: float = 0.01\n",
    "cutoff_as_fraction_of_pi: float = 0.01  # Lowpass cutoff for lowpass noise.\n",
    "alpha: float = 2.0  # The α in 1 / f^α noise.\n",
    "\n",
    "# Scaling parameters.\n",
    "local_fold_key: str = \"random\"\n",
    "max_scale_factor: int = 9\n",
    "\n",
    "# Plotting options.\n",
    "ymin: float = -0.01\n",
    "ymax: float = 0.40\n",
    "fill_below = False\n",
    "fill_std = False\n",
    "\n",
    "# Option to save plots.\n",
    "save: bool = False\n",
    "save_type: str = \"pdf\"\n",
    "\n",
    "# Other miscellaneous parameters.\n",
    "num_monte_carlo: int = 1000\n",
    "verbosity: int = 1"
   ]
  },
  {
   "cell_type": "markdown",
   "id": "ddaccef1",
   "metadata": {},
   "source": [
    "## Load data"
   ]
  },
  {
   "cell_type": "code",
   "execution_count": 5,
   "id": "7b045e25",
   "metadata": {},
   "outputs": [
    {
     "ename": "ValueError",
     "evalue": "Did not find any directories in ./ matching the pattern tzne_circuit_type_rb_nqubits_1_depth_10_noise_type_lowpass_base_power_0.01_cutoff_0.01_max_scale_factor_9_num_monte_carlo_1000. The directories in ./ are \n",
     "output_type": "error",
     "traceback": [
      "\u001b[0;31m---------------------------------------------------------------------------\u001b[0m",
      "\u001b[0;31mValueError\u001b[0m                                Traceback (most recent call last)",
      "Input \u001b[0;32mIn [5]\u001b[0m, in \u001b[0;36m<module>\u001b[0;34m\u001b[0m\n\u001b[1;32m      9\u001b[0m \u001b[38;5;28;01mif\u001b[39;00m \u001b[38;5;28mlen\u001b[39m(exp_values_fnames) \u001b[38;5;241m==\u001b[39m \u001b[38;5;241m0\u001b[39m:\n\u001b[1;32m     10\u001b[0m     found_dirs \u001b[38;5;241m=\u001b[39m \u001b[38;5;124m\"\u001b[39m\u001b[38;5;130;01m\\n\u001b[39;00m\u001b[38;5;124m\"\u001b[39m\u001b[38;5;241m.\u001b[39mjoin(\n\u001b[1;32m     11\u001b[0m         [s \u001b[38;5;28;01mfor\u001b[39;00m s \u001b[38;5;129;01min\u001b[39;00m glob\u001b[38;5;241m.\u001b[39mglob(os\u001b[38;5;241m.\u001b[39mpath\u001b[38;5;241m.\u001b[39mjoin(prefix, \u001b[38;5;124m'\u001b[39m\u001b[38;5;124m*\u001b[39m\u001b[38;5;124m'\u001b[39m)) \u001b[38;5;28;01mif\u001b[39;00m os\u001b[38;5;241m.\u001b[39mpath\u001b[38;5;241m.\u001b[39misdir(s)]\n\u001b[1;32m     12\u001b[0m     )\n\u001b[0;32m---> 13\u001b[0m     \u001b[38;5;28;01mraise\u001b[39;00m \u001b[38;5;167;01mValueError\u001b[39;00m(\n\u001b[1;32m     14\u001b[0m         \u001b[38;5;124mf\u001b[39m\u001b[38;5;124m\"\u001b[39m\u001b[38;5;124mDid not find any directories in \u001b[39m\u001b[38;5;132;01m{\u001b[39;00mprefix\u001b[38;5;132;01m}\u001b[39;00m\u001b[38;5;124m matching the pattern \u001b[39m\u001b[38;5;124m\"\u001b[39m\n\u001b[1;32m     15\u001b[0m         \u001b[38;5;124mf\u001b[39m\u001b[38;5;124m\"\u001b[39m\u001b[38;5;132;01m{\u001b[39;00mdir_name\u001b[38;5;132;01m}\u001b[39;00m\u001b[38;5;124m. The directories in \u001b[39m\u001b[38;5;132;01m{\u001b[39;00mprefix\u001b[38;5;132;01m}\u001b[39;00m\u001b[38;5;124m are \u001b[39m\u001b[38;5;130;01m\\n\u001b[39;00m\u001b[38;5;132;01m{\u001b[39;00mfound_dirs\u001b[38;5;132;01m}\u001b[39;00m\u001b[38;5;124m\"\u001b[39m\n\u001b[1;32m     16\u001b[0m     )\n\u001b[1;32m     19\u001b[0m \u001b[38;5;28mprint\u001b[39m(\u001b[38;5;124mf\u001b[39m\u001b[38;5;124m\"\u001b[39m\u001b[38;5;124mFound \u001b[39m\u001b[38;5;132;01m{\u001b[39;00m\u001b[38;5;28mlen\u001b[39m(exp_values_fnames)\u001b[38;5;132;01m}\u001b[39;00m\u001b[38;5;124m matching filenames.\u001b[39m\u001b[38;5;124m\"\u001b[39m)\n\u001b[1;32m     20\u001b[0m all_expectation_values \u001b[38;5;241m=\u001b[39m np\u001b[38;5;241m.\u001b[39marray([\n\u001b[1;32m     21\u001b[0m     np\u001b[38;5;241m.\u001b[39mloadtxt(fname) \u001b[38;5;28;01mfor\u001b[39;00m fname \u001b[38;5;129;01min\u001b[39;00m exp_values_fnames\n\u001b[1;32m     22\u001b[0m ])\n",
      "\u001b[0;31mValueError\u001b[0m: Did not find any directories in ./ matching the pattern tzne_circuit_type_rb_nqubits_1_depth_10_noise_type_lowpass_base_power_0.01_cutoff_0.01_max_scale_factor_9_num_monte_carlo_1000. The directories in ./ are \n"
     ]
    }
   ],
   "source": [
    "noise_params = {\n",
    "    \"lowpass\": f\"cutoff_{cutoff_as_fraction_of_pi}\",\n",
    "    \"pink\": \"alpha_%0.2f\" %alpha,\n",
    "}.get(noise_type)\n",
    "dir_name = f\"tzne_circuit_type_{circuit_type}_nqubits_{nqubits}_depth_{depth}_noise_type_{noise_type}_base_power_{base_power}_{noise_params}_max_scale_factor_{max_scale_factor}_num_monte_carlo_{num_monte_carlo}\"\n",
    "\n",
    "exp_values_fnames = glob.glob(os.path.join(prefix, dir_name, expectation_values_fnames_key))\n",
    "\n",
    "if len(exp_values_fnames) == 0:\n",
    "    found_dirs = \"\\n\".join(\n",
    "        [s for s in glob.glob(os.path.join(prefix, '*')) if os.path.isdir(s)]\n",
    "    )\n",
    "    raise ValueError(\n",
    "        f\"Did not find any directories in {prefix} matching the pattern \"\n",
    "        f\"{dir_name}. The directories in {prefix} are \\n{found_dirs}\"\n",
    "    )\n",
    "\n",
    "\n",
    "print(f\"Found {len(exp_values_fnames)} matching filenames.\")\n",
    "all_expectation_values = np.array([\n",
    "    np.loadtxt(fname) for fname in exp_values_fnames\n",
    "])"
   ]
  },
  {
   "cell_type": "markdown",
   "id": "483586db",
   "metadata": {},
   "source": [
    "## Plot the average $E(\\lambda)$ curves for all scaling methods"
   ]
  },
  {
   "cell_type": "code",
   "execution_count": null,
   "id": "947b941f",
   "metadata": {
    "scrolled": true
   },
   "outputs": [],
   "source": [
    "#@title Plotting code.\n",
    "fig = plt.figure(figsize=(7, 4))\n",
    "colors = (\"tab:blue\", \"tab:orange\", \"tab:green\", \"tab:red\", \"teal\")\n",
    "\n",
    "avgs = np.average(all_expectation_values, axis=0)\n",
    "stds = np.std(all_expectation_values, axis=0)\n",
    "\n",
    "for i, (avg, std) in enumerate(zip(avgs, stds)):\n",
    "    scale_factors = range(1, 2 * len(avg) + 1, 2)\n",
    "    plt.errorbar(\n",
    "        x=scale_factors,\n",
    "        y=avg,\n",
    "        yerr=std,\n",
    "        ls=\"dashdot\" if i != 0 else \"-\",\n",
    "        capsize=7,\n",
    "        lw=2.5,\n",
    "        color=colors[i],\n",
    "        label=labels[i],\n",
    "    )\n",
    "    plt.fill_between(x=scale_factors, y1=avg - std, y2=avg + std, alpha=0.2)\n",
    "\n",
    "# Style.\n",
    "plt.xticks(scale_factors)\n",
    "plt.xlabel(r\"$\\lambda$\")\n",
    "plt.ylabel(r\"$E(\\lambda)$\")\n",
    "plt.legend()\n",
    "plt.tight_layout();\n",
    "\n",
    "if save:\n",
    "    plt.savefig(os.path.join(os.path.join(prefix, dir_name), \"000_expvals\" + \".\" + save_type))"
   ]
  },
  {
   "cell_type": "markdown",
   "id": "984e9d18",
   "metadata": {},
   "source": [
    "## Plot the relative errors in $E(\\lambda)$ curves"
   ]
  },
  {
   "cell_type": "code",
   "execution_count": null,
   "id": "0ff22c13",
   "metadata": {},
   "outputs": [],
   "source": [
    "fig = plt.figure(figsize=(7, 4))\n",
    "\n",
    "true = avgs[0]\n",
    "for i, (avg, std) in enumerate(zip(avgs[1:], stds[1:])):\n",
    "    i += 1\n",
    "    scale_factors = range(1, 2 * len(avg) + 1, 2)\n",
    "    error = np.abs((true - avg) / true)\n",
    "    plt.plot(\n",
    "        scale_factors, error, \"--s\", lw=2, alpha=0.85, ms=8, color=colors[i], mec=\"black\", label=labels[i]\n",
    "    )\n",
    "    if fill_below:   \n",
    "        plt.fill_between(x=scale_factors, y1=error, alpha=0.2, color=colors[i])\n",
    "    if fill_std:\n",
    "        plt.fill_between(x=scale_factors, y1=error + std, y2=error - std, alpha=0.2, color=colors[i])\n",
    "\n",
    "# Style.\n",
    "plt.xticks(scale_factors)\n",
    "plt.xlabel(r\"$\\lambda$\")\n",
    "plt.ylabel(r\"$\\left| \\frac{ E(\\lambda) - E^*(\\lambda) }{ E^*(\\lambda) } \\right|$\")\n",
    "plt.legend()\n",
    "plt.tight_layout();\n",
    "plt.ylim(ymin, ymax)\n",
    "\n",
    "if save:\n",
    "    plt.savefig(os.path.join(os.path.join(prefix, dir_name), \"000_errors\" + \".\" + save_type))"
   ]
  }
 ],
 "metadata": {
  "kernelspec": {
   "display_name": "mezze_test",
   "language": "python",
   "name": "mezze_test"
  },
  "language_info": {
   "codemirror_mode": {
    "name": "ipython",
    "version": 3
   },
   "file_extension": ".py",
   "mimetype": "text/x-python",
   "name": "python",
   "nbconvert_exporter": "python",
   "pygments_lexer": "ipython3",
   "version": "3.9.10"
  },
  "papermill": {
   "default_parameters": {},
   "duration": 5.194397,
   "end_time": "2021-05-03T19:05:06.964894",
   "environment_variables": {},
   "exception": null,
   "input_path": "run.ipynb",
   "output_path": "out.ipynb",
   "parameters": {
    "depth": 1000
   },
   "start_time": "2021-05-03T19:05:01.770497",
   "version": "2.3.3"
  }
 },
 "nbformat": 4,
 "nbformat_minor": 5
}
