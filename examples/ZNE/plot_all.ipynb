{
 "cells": [
  {
   "cell_type": "markdown",
   "id": "85ac4b41",
   "metadata": {
    "papermill": {
     "duration": 0.021484,
     "end_time": "2021-05-03T19:05:02.765715",
     "exception": false,
     "start_time": "2021-05-03T19:05:02.744231",
     "status": "completed"
    },
    "tags": []
   },
   "source": [
    "# Reproduce paper figures with all noise spectra"
   ]
  },
  {
   "cell_type": "code",
   "execution_count": null,
   "id": "bb10bd1f",
   "metadata": {
    "scrolled": true
   },
   "outputs": [],
   "source": [
    "import time\n",
    "\n",
    "from matplotlib import pyplot as plt\n",
    "import numpy as np\n",
    "\n",
    "import papermill as pm\n",
    "from pdf2image import convert_from_path"
   ]
  },
  {
   "cell_type": "code",
   "execution_count": null,
   "id": "24ecc435",
   "metadata": {
    "tags": [
     "parameters"
    ]
   },
   "outputs": [],
   "source": [
    "circuit_type: str = \"qaoa\"  # Supported types: \"rb\", \"mirror\", \"qaoa\".\n",
    "nqubits: int = 2  # Number of qubits.\n",
    "depth: int = 2  # Depth of circuit.\n",
    "num_monte_carlo: int = 3000  # Number of samples to take in Monte carlo simulation.\n",
    "number_of_experiments: int = 10  # Number of circuits to average over.\n",
    "RUN_SIMULATIONS: bool = False  # Set \"RUN_SIMULATIONS = False\" for just plotting the results of pre-executed simulations.\n",
    "fill_std = True  # Show std. dev. on final plot.\n",
    "ymax = 0.4  # Largest vertical axis value on all four subplots in final plot.\n",
    "save_final_figure = False # If True, the final figure is saved in a pdf file."
   ]
  },
  {
   "cell_type": "code",
   "execution_count": null,
   "id": "85cba6cb",
   "metadata": {},
   "outputs": [],
   "source": [
    "parameters = {\n",
    "    \"circuit_type\": circuit_type,\n",
    "    \"nqubits\": nqubits,\n",
    "    \"depth\": depth,\n",
    "    \"num_monte_carlo\": num_monte_carlo,\n",
    "    \"save\": True,\n",
    "    \"savefigs\": False,\n",
    "}\n",
    "\n",
    "plot_parameters = {\n",
    "    \"fill_std\": fill_std,\n",
    "    \"ymax\": ymax\n",
    "}"
   ]
  },
  {
   "cell_type": "code",
   "execution_count": null,
   "id": "cb59dd0d",
   "metadata": {},
   "outputs": [],
   "source": [
    "noise_types = [\n",
    "    {\"noise_type\": \"white\"},\n",
    "    {\"noise_type\": \"lowpass\"},\n",
    "    {\"noise_type\": \"pink\", \"alpha\": 1},\n",
    "    {\"noise_type\": \"pink\", \"alpha\": 2},\n",
    "]"
   ]
  },
  {
   "cell_type": "markdown",
   "id": "4fef6c26",
   "metadata": {},
   "source": [
    "## Run simulations"
   ]
  },
  {
   "cell_type": "code",
   "execution_count": null,
   "id": "2c0b4d30",
   "metadata": {},
   "outputs": [],
   "source": [
    "if RUN_SIMULATIONS:\n",
    "    init_time = time.time()\n",
    "\n",
    "    for noise_params in noise_types:\n",
    "        parameters.update(noise_params)\n",
    "        for _ in range(number_of_experiments):\n",
    "            _ = pm.execute_notebook(\n",
    "                \"run.ipynb\", circuit_type + \"_\" + noise_params[\"noise_type\"] + \".ipynb\", parameters\n",
    "            )\n",
    "\n",
    "    print(f\"Total execution time in minutes: {(time.time() - init_time) / 60 :.3f}\")"
   ]
  },
  {
   "cell_type": "markdown",
   "id": "948629e4",
   "metadata": {},
   "source": [
    "## Produce individual plots"
   ]
  },
  {
   "cell_type": "code",
   "execution_count": null,
   "id": "63262020",
   "metadata": {},
   "outputs": [],
   "source": [
    "parameters.update(plot_parameters)\n",
    "for noise_params in noise_types:\n",
    "    parameters.update(noise_params)\n",
    "    _ = pm.execute_notebook(\n",
    "        \"plot.ipynb\", \"plot_\" + circuit_type + \"_\" + noise_params[\"noise_type\"] + \".ipynb\", parameters\n",
    "    )"
   ]
  },
  {
   "cell_type": "markdown",
   "id": "b926bc04",
   "metadata": {},
   "source": [
    "## Combine plots into a unique figure"
   ]
  },
  {
   "cell_type": "code",
   "execution_count": null,
   "id": "4dac7fed",
   "metadata": {},
   "outputs": [],
   "source": [
    "dir_white = f\"tzne_circuit_type_{circuit_type}_nqubits_{nqubits}_depth_{depth}_noise_type_white_base_power_0.01_None_max_scale_factor_9_num_monte_carlo_{num_monte_carlo}\"\n",
    "dir_lowpass = f\"tzne_circuit_type_{circuit_type}_nqubits_{nqubits}_depth_{depth}_noise_type_lowpass_base_power_0.01_cutoff_0.01_max_scale_factor_9_num_monte_carlo_{num_monte_carlo}\"\n",
    "dir_pink1 = f\"tzne_circuit_type_{circuit_type}_nqubits_{nqubits}_depth_{depth}_noise_type_pink_base_power_0.01_alpha_1.00_max_scale_factor_9_num_monte_carlo_{num_monte_carlo}\"\n",
    "dir_pink2 = f\"tzne_circuit_type_{circuit_type}_nqubits_{nqubits}_depth_{depth}_noise_type_pink_base_power_0.01_alpha_2.00_max_scale_factor_9_num_monte_carlo_{num_monte_carlo}\""
   ]
  },
  {
   "cell_type": "code",
   "execution_count": null,
   "id": "1ac0c399",
   "metadata": {},
   "outputs": [],
   "source": [
    "# Convert pdf figures to png.\n",
    "dpi = 600\n",
    "\n",
    "top_left_png = convert_from_path(dir_white + \"/000_errors.pdf\", dpi)[0]\n",
    "top_left = np.array(top_left_png)\n",
    "\n",
    "top_right_png = convert_from_path(dir_lowpass + \"/000_errors.pdf\", dpi)[0]\n",
    "top_right = np.array(top_right_png)\n",
    "\n",
    "bottom_left_png = convert_from_path(dir_pink1 + \"/000_errors.pdf\", dpi)[0]\n",
    "bottom_left = np.array(bottom_left_png)\n",
    "\n",
    "bottom_right_png = convert_from_path(dir_pink2 + \"/000_errors.pdf\", dpi)[0]\n",
    "bottom_right = np.array(bottom_right_png)"
   ]
  },
  {
   "cell_type": "code",
   "execution_count": null,
   "id": "bbcbf330",
   "metadata": {},
   "outputs": [],
   "source": [
    "plt.rcParams.update(\n",
    "    {\n",
    "        \"text.usetex\": True,\n",
    "        \"font.family\": \"serif\",\n",
    "        \"font.size\": 30,\n",
    "        \"font.weight\": \"bold\",\n",
    "    }\n",
    ")\n",
    "%matplotlib inline\n",
    "\n",
    "fig, axs = plt.subplots(2, 2, figsize=(20, 10))\n",
    "\n",
    "for ax in axs.flatten():\n",
    "    ax.axis(\"off\")\n",
    "\n",
    "x = 600\n",
    "y = -20\n",
    "title_size = 25\n",
    "label_size = 30\n",
    "\n",
    "# (a) White noise.\n",
    "axs[0, 0].imshow(top_left)\n",
    "axs[0, 0].text(x, y, \"(a)\", fontsize=label_size)\n",
    "\n",
    "# (b) Lowpass noise.\n",
    "axs[0, 1].imshow(top_right)\n",
    "axs[0, 1].text(x, y, \"(b)\", fontsize=label_size)\n",
    "\n",
    "# (c) Pink 1/f noise.\n",
    "axs[1, 0].imshow(bottom_left)\n",
    "axs[1, 0].text(x, y, \"(c)\", fontsize=label_size)\n",
    "\n",
    "# (d) Pink 1/f^2 noise.\n",
    "axs[1, 1].imshow(bottom_right)\n",
    "axs[1, 1].text(x, y, \"(d)\", fontsize=label_size)\n",
    "\n",
    "plt.subplots_adjust(wspace=-0.30, hspace=0)\n",
    "\n",
    "if save_final_figure:\n",
    "    fig_name = f\"error_figure_{circuit_type}_{nqubits}_{num_monte_carlo}_{number_of_experiments}.pdf\"\n",
    "    fig.savefig(fig_name)\n"
   ]
  }
 ],
 "metadata": {
  "celltoolbar": "Tags",
  "kernelspec": {
   "display_name": "mezze_test",
   "language": "python",
   "name": "mezze_test"
  },
  "language_info": {
   "codemirror_mode": {
    "name": "ipython",
    "version": 3
   },
   "file_extension": ".py",
   "mimetype": "text/x-python",
   "name": "python",
   "nbconvert_exporter": "python",
   "pygments_lexer": "ipython3",
   "version": "3.9.10"
  },
  "papermill": {
   "default_parameters": {},
   "duration": 5.194397,
   "end_time": "2021-05-03T19:05:06.964894",
   "environment_variables": {},
   "exception": null,
   "input_path": "run.ipynb",
   "output_path": "out.ipynb",
   "parameters": {
    "depth": 1000
   },
   "start_time": "2021-05-03T19:05:01.770497",
   "version": "2.3.3"
  }
 },
 "nbformat": 4,
 "nbformat_minor": 5
}
