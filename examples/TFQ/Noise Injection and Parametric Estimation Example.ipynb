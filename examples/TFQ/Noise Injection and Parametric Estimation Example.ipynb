{
 "cells": [
  {
   "cell_type": "code",
   "execution_count": null,
   "metadata": {},
   "outputs": [],
   "source": [
    "import numpy as np\n",
    "import scipy.signal as si\n",
    "import matplotlib.pyplot as pl\n",
    "from mezze.tfq import *\n",
    "import cirq\n",
    "from qiskit import Aer,execute\n",
    "import qiskit as qk"
   ]
  },
  {
   "cell_type": "markdown",
   "metadata": {},
   "source": [
    "# Introduction\n",
    "This notebook takes a sample SchWARMA dephasing model and demonstrates \n",
    "1. How to perform simulation and PSD estimation (both non-negative least squares and parametric) using fixed total time pulse sequences (FTTPS)\n",
    "2. How to leverage `cirq`'s capability to convert to QASM as a bridge to generate random circuits for gate-based noise injection on the IBM QE\n",
    "\n",
    "Note that we use the qiskit simulator to demonstrate this, which will require some modification to use the actual cloud.  \n",
    "\n",
    "## Part 1: `mezze` simulation\n",
    "\n",
    "Here we generate an example $1/f^2$ noise model and verify its power spectrum"
   ]
  },
  {
   "cell_type": "code",
   "execution_count": null,
   "metadata": {},
   "outputs": [],
   "source": [
    "# First a mechanism for 1/f^\\alpha noise\n",
    "\n",
    "def get_pink_arma(alpha, power=None, wl=.001*np.pi, wh=.999*np.pi):\n",
    "    \"\"\"\n",
    "    Implementes the approach from\n",
    "    \n",
    "         S. Plaszczynski, Fluctuation and Noise Letters7, R1 (2007)\n",
    "     \n",
    "    alpha: float between in (0,2] that determines the noise exponent\n",
    "    power: float to normalize total power\n",
    "    wl: float normalized frequency cut off for white band at start\n",
    "    wh: float normalized frequency cut off for 1/f^2 band at end\n",
    "    \n",
    "    returns bb, aa np.array of ARMA coefficients (in si.filter form)\n",
    "    \n",
    "    \"\"\"\n",
    "    Nf = np.ceil(2.5*(np.log10(wh)-np.log10(wl)))\n",
    "    delp = (np.log10(wh)-np.log10(wl))/Nf\n",
    "    logps = np.log10(wl)+.5*(1-alpha/2.)*delp + np.arange(Nf)*delp\n",
    "    logzs = logps+alpha/2.*delp\n",
    "    ps = 10**(logps)\n",
    "    zs = 10**(logzs)\n",
    "\n",
    "    pstx = (1-ps)/(1+ps)\n",
    "    zstx = (1-zs)/(1+zs)\n",
    "    bb,aa = si.zpk2tf(zstx,pstx,k=1e-4)\n",
    "    if power is not None:\n",
    "        w_pa,h_pa = si.freqz(bb,aa,worN=2048*8, whole=True)\n",
    "        acv = np.fft.ifft(np.abs(h_pa)**2)\n",
    "        bb = bb/np.sqrt(acv[0])*np.sqrt(power)\n",
    "    \n",
    "    return bb, aa\n",
    "\n",
    "bb, aa = get_pink_arma(2, power = 2e-4)\n",
    "\n",
    "w_pa,h_pa = si.freqz(bb,aa,worN=2048*8, whole=False)\n",
    "\n",
    "pl.figure()\n",
    "pl.plot(w_pa, np.abs(h_pa)**2)\n",
    "pl.plot(w_pa[1:], .3e-5/w_pa[1:]**2,'--k')\n",
    "pl.xscale('log')\n",
    "pl.yscale('log')\n",
    "pl.xlabel('Normalized Frequency')\n",
    "pl.ylabel('Power')\n",
    "pl.show()\n",
    "print('Total Power: {0}'.format(2*np.sum(np.abs(h_pa)**2)*w_pa[1]/(2*np.pi)))"
   ]
  },
  {
   "cell_type": "markdown",
   "metadata": {},
   "source": [
    "Next we generate the FTTPS sequences, as described in [arXiv:2010.04580](https://arxiv.org/abs/2010.04580) and  [arXiv:2102.03370](https://arxiv.org/abs/2102.03370), and generate the filter functions that we will use for both the parametric (fine frequency scale) and NNLS (course frequency scale) reconstructions."
   ]
  },
  {
   "cell_type": "code",
   "execution_count": null,
   "metadata": {},
   "outputs": [],
   "source": [
    "# Get the FTTPS sequences and filter functions\n",
    "num_FTTPS= 64\n",
    "\n",
    "N = 2*num_FTTPS\n",
    "worN = 8192\n",
    "\n",
    "FTTPS_circuits = get_FTTS_circuits(N)\n",
    "\n",
    "\n",
    "Phi, PhiRecon, num_gates = get_FTTS_FFs(N,worN)\n",
    "Phi = Phi.astype(np.float32)\n",
    "num_gates = num_gates.astype(np.float32)"
   ]
  },
  {
   "cell_type": "markdown",
   "metadata": {},
   "source": [
    "The next few cells generate the SchWARMA model and simulates."
   ]
  },
  {
   "cell_type": "code",
   "execution_count": null,
   "metadata": {},
   "outputs": [],
   "source": [
    "S = SimpleDephasingSchWARMAFier(bb, aa)"
   ]
  },
  {
   "cell_type": "code",
   "execution_count": null,
   "metadata": {},
   "outputs": [],
   "source": [
    "# This simulates 1000 short per sequence\n",
    "sims  = [TensorFlowSchWARMASim(circ, S) for circ in FTTPS_circuits]\n",
    "ps = [sim.output_sample(1000) for sim in sims]\n",
    "ps = np.mean(ps,1)"
   ]
  },
  {
   "cell_type": "code",
   "execution_count": null,
   "metadata": {},
   "outputs": [],
   "source": [
    "pl.figure()\n",
    "pl.plot(ps,'-+')\n",
    "pl.xlabel('FTTPS Sequence #')\n",
    "pl.ylabel('Survival Probability')\n",
    "pl.show()"
   ]
  },
  {
   "cell_type": "markdown",
   "metadata": {},
   "source": [
    "Next we fit a model using the TensorFlow-based learner, and then use the built in methods to convert to power spectrum and get a NNLS estimate"
   ]
  },
  {
   "cell_type": "code",
   "execution_count": null,
   "metadata": {},
   "outputs": [],
   "source": [
    "learner = ZDephasingFFLearner(len(bb),len(aa))\n",
    "learner.fit(ps, Phi, num_gates)"
   ]
  },
  {
   "cell_type": "code",
   "execution_count": null,
   "metadata": {},
   "outputs": [],
   "source": [
    "b_hat, a_hat = learner.convert_to_lfilter_form()\n",
    "P_nnls = learner.NNLS_recon(ps, PhiRecon)\n",
    "w_nnls, _ = si.freqz(b_hat,a_hat, worN=N//2, whole=False)\n",
    "w, h_hat = si.freqz(b_hat,a_hat,worN = 2048*8, whole=False)\n",
    "\n",
    "\n",
    "pl.figure()\n",
    "pl.plot(w, np.abs(h_hat)**2,label='SchWARMA Est')\n",
    "pl.plot(w_nnls, P_nnls,'x',label='NNLS Est')\n",
    "pl.plot(w_pa, np.abs(h_pa)**2,label = 'True')\n",
    "pl.plot(w_pa[1:], .3e-5/w_pa[1:]**2,'--k', label=r'$1/f^2$')\n",
    "pl.xscale('log')\n",
    "pl.yscale('log')\n",
    "pl.xlabel('Normalized Frequency')\n",
    "pl.ylabel('Power')\n",
    "pl.legend()\n",
    "pl.show()"
   ]
  },
  {
   "cell_type": "markdown",
   "metadata": {},
   "source": [
    "## Part 2: Repeat everything using the IBM simulation tools\n",
    "Note that you will need the IBM qiskit software installed to actually run this, and we do not guarentee that it will be up to date with the newest API.  At best, use this as a template for how to convert from random cirq objects generated by mezze to plug into IBM. At some point in the future if IBM (or someone else) directly supports `cirq.Circuits`, this will basically be moot."
   ]
  },
  {
   "cell_type": "code",
   "execution_count": null,
   "metadata": {},
   "outputs": [],
   "source": [
    "# Basically Repeat the above using qiskit. You'll have to adapt to actually run on the cloud.\n",
    "\n",
    "device = 'qasm_simulator'\n",
    "backend = Aer.get_backend(device)\n",
    "num_schwarma_trajectories = 50\n",
    "num_shots_per_trajectory = 2000\n",
    "\n",
    "ps_IBM = np.zeros((len(FTTPS_circuits),1))\n",
    "\n",
    "for circ_lcv, circ in enumerate(FTTPS_circuits):\n",
    "    \n",
    "    #need to explicitly add measurement gates\n",
    "    for q in circ.all_qubits():\n",
    "        circ.append(cirq.measure(q))\n",
    "        \n",
    "    noisy_circs = S.gen_noisy_circuit(circ, num_schwarma_trajectories)\n",
    "    noisy_counts = {}\n",
    "    for i, noisy_circ in enumerate(noisy_circs):\n",
    "\n",
    "        cirq.circuits.QasmOutput(noisy_circ, noisy_circ.all_qubits()).save('qasm_tmp.qasm')    \n",
    "        ibm_circ = qk.QuantumCircuit.from_qasm_file('qasm_tmp.qasm')\n",
    "\n",
    "        job = execute(ibm_circ, backend, shots=num_shots_per_trajectory)\n",
    "        result = job.result()\n",
    "        counts = result.get_counts(ibm_circ)\n",
    "\n",
    "        for key in counts:\n",
    "            if key in noisy_counts:\n",
    "                noisy_counts[key]+=counts[key]\n",
    "            else:\n",
    "                noisy_counts[key]=counts[key]\n",
    "    ps_IBM[circ_lcv] = noisy_counts['0']/(num_schwarma_trajectories*num_shots_per_trajectory)"
   ]
  },
  {
   "cell_type": "code",
   "execution_count": null,
   "metadata": {},
   "outputs": [],
   "source": [
    "pl.figure()\n",
    "pl.plot(ps_IBM,'-+')\n",
    "pl.xlabel('FTTPS Sequence #')\n",
    "pl.ylabel('Survival Probability')\n",
    "pl.show()"
   ]
  },
  {
   "cell_type": "code",
   "execution_count": null,
   "metadata": {},
   "outputs": [],
   "source": [
    "learner_IBM = ZDephasingFFLearner(len(bb),len(aa))\n",
    "learner_IBM.fit(ps_IBM, Phi, num_gates)"
   ]
  },
  {
   "cell_type": "code",
   "execution_count": null,
   "metadata": {},
   "outputs": [],
   "source": [
    "b_hat, a_hat = learner_IBM.convert_to_lfilter_form()\n",
    "P_nnls = learner_IBM.NNLS_recon(ps, PhiRecon)\n",
    "w_nnls, _ = si.freqz(b_hat,a_hat, worN=N//2, whole=False)\n",
    "w, h_hat = si.freqz(b_hat,a_hat,worN = 2048*8, whole=False)\n",
    "\n",
    "\n",
    "pl.figure()\n",
    "pl.plot(w, np.abs(h_hat)**2,label='SchWARMA Est')\n",
    "pl.plot(w_nnls, P_nnls,'x',label='NNLS Est')\n",
    "pl.plot(w_pa, np.abs(h_pa)**2,label = 'True')\n",
    "pl.plot(w_pa[1:], .3e-5/w_pa[1:]**2,'--k', label=r'$1/f^2$')\n",
    "pl.xscale('log')\n",
    "pl.yscale('log')\n",
    "pl.xlabel('Normalized Frequency')\n",
    "pl.ylabel('Power')\n",
    "pl.legend()\n",
    "pl.show()"
   ]
  },
  {
   "cell_type": "code",
   "execution_count": null,
   "metadata": {},
   "outputs": [],
   "source": []
  }
 ],
 "metadata": {
  "kernelspec": {
   "display_name": "mezze_test",
   "language": "python",
   "name": "mezze_test"
  },
  "language_info": {
   "codemirror_mode": {
    "name": "ipython",
    "version": 3
   },
   "file_extension": ".py",
   "mimetype": "text/x-python",
   "name": "python",
   "nbconvert_exporter": "python",
   "pygments_lexer": "ipython3",
   "version": "3.9.10"
  }
 },
 "nbformat": 4,
 "nbformat_minor": 4
}
